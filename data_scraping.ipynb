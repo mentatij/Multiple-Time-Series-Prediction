{
 "cells": [
  {
   "cell_type": "code",
   "execution_count": 1,
   "id": "c18456c4-aeba-4145-9ca3-ba3fbe511476",
   "metadata": {},
   "outputs": [],
   "source": [
    "import urllib.request, json , time, os, difflib, itertools\n",
    "import pandas as pd\n",
    "from multiprocessing.dummy import Pool\n",
    "from datetime import datetime"
   ]
  },
  {
   "cell_type": "code",
   "execution_count": 2,
   "id": "e0e2e327-7efc-4660-a57a-9aaa568cc697",
   "metadata": {},
   "outputs": [],
   "source": [
    "try:\n",
    "    import httplib\n",
    "except:\n",
    "    import http.client as httplib\n",
    "\n",
    "def check_internet():\n",
    "    conn = httplib.HTTPConnection(\"www.google.com\", timeout=5)\n",
    "    try:\n",
    "        conn.request(\"HEAD\", \"/\")\n",
    "        conn.close()\n",
    "        # print(\"True\")\n",
    "        return True\n",
    "    except:\n",
    "        conn.close()\n",
    "        # print(\"False\")\n",
    "        return False"
   ]
  },
  {
   "cell_type": "code",
   "execution_count": 3,
   "id": "7b1e4c8c-4a11-42b0-82c8-5f5675fcdbfd",
   "metadata": {},
   "outputs": [
    {
     "data": {
      "text/plain": [
       "True"
      ]
     },
     "execution_count": 3,
     "metadata": {},
     "output_type": "execute_result"
    }
   ],
   "source": [
    "check_internet()"
   ]
  },
  {
   "cell_type": "code",
   "execution_count": 4,
   "id": "4c65f998-e6a6-4af9-85f5-0bc26804d975",
   "metadata": {},
   "outputs": [],
   "source": [
    "def get_historic_price(query_url,json_path,csv_path):\n",
    "    \n",
    "    stock_id=query_url.split(\"&period\")[0].split(\"symbol=\")[1]\n",
    "    \n",
    "    #стираем файлы если уже есть\n",
    "    if os.path.exists(csv_path+stock_id+'.csv') and os.stat(csv_path+stock_id+'.csv').st_size != 0:\n",
    "        os.remove(csv_path+stock_id+'.csv')\n",
    "    \n",
    "    while not check_internet():\n",
    "        print(\"Could not connect, trying again in 5 seconds...\")\n",
    "        time.sleep(5)\n",
    "\n",
    "    try:\n",
    "        with urllib.request.urlopen(query_url) as url:\n",
    "            parsed = json.loads(url.read().decode())\n",
    "    \n",
    "    except:\n",
    "        print(\"|||  Historical data of \"+stock_id+\" doesn't exist\")\n",
    "        return\n",
    "    \n",
    "    else:\n",
    "        if os.path.exists(json_path+stock_id+'.json') and os.stat(json_path+stock_id+'.json').st_size != 0:\n",
    "            os.remove(json_path+stock_id+'.json')\n",
    "        \n",
    "        with open(json_path+stock_id+'.json', 'w') as outfile:\n",
    "            json.dump(parsed, outfile, indent=4)\n",
    "        \n",
    "        try:\n",
    "            Date=[]\n",
    "            for i in parsed['chart']['result'][0]['timestamp']:\n",
    "                Date.append(datetime.utcfromtimestamp(int(i)).strftime('%Y-%m-%d'))\n",
    "\n",
    "            #Low=parsed['chart']['result'][0]['indicators']['quote'][0]['low']\n",
    "            #Open=parsed['chart']['result'][0]['indicators']['quote'][0]['open']\n",
    "            #Volume=parsed['chart']['result'][0]['indicators']['quote'][0]['volume']\n",
    "            #High=parsed['chart']['result'][0]['indicators']['quote'][0]['high']\n",
    "            Close=parsed['chart']['result'][0]['indicators']['quote'][0]['close']\n",
    "            #Adjusted_Close=parsed['chart']['result'][0]['indicators']['adjclose'][0]['adjclose']\n",
    "\n",
    "            df=pd.DataFrame(list(zip(Date,Close)),columns =['Date',stock_id[1:]])\n",
    "\n",
    "            if os.path.exists(csv_path+stock_id+'.csv'):\n",
    "                os.remove(csv_path+stock_id+'.csv')\n",
    "            df.to_csv(csv_path+stock_id+'.csv', sep=',', index=None)\n",
    "            print(\">>>  Historical data of \"+stock_id+\" saved\")\n",
    "        \n",
    "        except:\n",
    "            print(\">>>  Historical data of \"+stock_id+\" could not be saved\")\n",
    "        \n",
    "        return"
   ]
  },
  {
   "cell_type": "code",
   "execution_count": 5,
   "id": "001c9595-4aea-4fa2-94dd-2719464296f3",
   "metadata": {},
   "outputs": [],
   "source": [
    "json_path = \"data/json/\"\n",
    "csv_path = \"data/csv/\""
   ]
  },
  {
   "cell_type": "code",
   "execution_count": 6,
   "id": "b3797885-f5d9-4db0-8d3b-ae39326c37f7",
   "metadata": {},
   "outputs": [],
   "source": [
    "if not os.path.isdir(json_path):\n",
    "    os.makedirs(json_path)\n",
    "if not os.path.isdir(csv_path):\n",
    "    os.makedirs(csv_path)"
   ]
  },
  {
   "cell_type": "code",
   "execution_count": 7,
   "id": "94808022-0fd7-4eb9-b8ea-ec5a8aca3e92",
   "metadata": {},
   "outputs": [],
   "source": [
    "from tickers import tickers_dict"
   ]
  },
  {
   "cell_type": "code",
   "execution_count": 8,
   "id": "d1151bb0-9a2f-45d2-b5c2-58d04ca1dd30",
   "metadata": {},
   "outputs": [],
   "source": [
    "# Период с 2016-06-30 по 2021-06-30, интервал 1 неделя (допустмые значения [1m, 2m, 5m, 15m, 30m, 60m, 90m, 1h, 1d, 5d, 1wk, 1mo, 3mo])\n",
    "timestamp_start = str(int(datetime.strptime('2018-06-30', \"%Y-%m-%d\").timestamp()))\n",
    "timestamp_end = str(int(datetime.strptime('2019-06-30', \"%Y-%m-%d\").timestamp()))\n",
    "interval = '1d'"
   ]
  },
  {
   "cell_type": "code",
   "execution_count": 9,
   "id": "1b3490c6-c03f-4c60-a29c-1f44c9aedf35",
   "metadata": {},
   "outputs": [
    {
     "data": {
      "text/plain": [
       "'1530306000'"
      ]
     },
     "execution_count": 9,
     "metadata": {},
     "output_type": "execute_result"
    }
   ],
   "source": [
    "timestamp_start"
   ]
  },
  {
   "cell_type": "code",
   "execution_count": 23,
   "id": "aac08b37-c968-45bb-babc-2dc943564946",
   "metadata": {},
   "outputs": [],
   "source": [
    "query_urls=[]\n",
    "\n",
    "for ticker in tickers_dict.values():\n",
    "    query_urls.append(\"https://query1.finance.yahoo.com/v8/finance/chart/\"+ticker[0]+\"?symbol=\"+ticker[0]+\"&period1=\"+timestamp_start+\"&period2=\"+timestamp_end+\"&interval=\"+interval)"
   ]
  },
  {
   "cell_type": "code",
   "execution_count": 24,
   "id": "319c2fa1-a47f-431b-afd4-25d1bd4c2505",
   "metadata": {},
   "outputs": [
    {
     "data": {
      "text/plain": [
       "['https://query1.finance.yahoo.com/v8/finance/chart/^IXIC?symbol=^IXIC&period1=1530306000&period2=1561842000&interval=1d',\n",
       " 'https://query1.finance.yahoo.com/v8/finance/chart/^NDX?symbol=^NDX&period1=1530306000&period2=1561842000&interval=1d',\n",
       " 'https://query1.finance.yahoo.com/v8/finance/chart/^BANK?symbol=^BANK&period1=1530306000&period2=1561842000&interval=1d',\n",
       " 'https://query1.finance.yahoo.com/v8/finance/chart/^NBI?symbol=^NBI&period1=1530306000&period2=1561842000&interval=1d',\n",
       " 'https://query1.finance.yahoo.com/v8/finance/chart/^IXCO?symbol=^IXCO&period1=1530306000&period2=1561842000&interval=1d',\n",
       " 'https://query1.finance.yahoo.com/v8/finance/chart/^IXHC?symbol=^IXHC&period1=1530306000&period2=1561842000&interval=1d',\n",
       " 'https://query1.finance.yahoo.com/v8/finance/chart/^INDS?symbol=^INDS&period1=1530306000&period2=1561842000&interval=1d',\n",
       " 'https://query1.finance.yahoo.com/v8/finance/chart/^INSR?symbol=^INSR&period1=1530306000&period2=1561842000&interval=1d',\n",
       " 'https://query1.finance.yahoo.com/v8/finance/chart/^OFIN?symbol=^OFIN&period1=1530306000&period2=1561842000&interval=1d',\n",
       " 'https://query1.finance.yahoo.com/v8/finance/chart/^IXTC?symbol=^IXTC&period1=1530306000&period2=1561842000&interval=1d',\n",
       " 'https://query1.finance.yahoo.com/v8/finance/chart/^TRAN?symbol=^TRAN&period1=1530306000&period2=1561842000&interval=1d',\n",
       " 'https://query1.finance.yahoo.com/v8/finance/chart/^DJI?symbol=^DJI&period1=1530306000&period2=1561842000&interval=1d',\n",
       " 'https://query1.finance.yahoo.com/v8/finance/chart/^NYA?symbol=^NYA&period1=1530306000&period2=1561842000&interval=1d']"
      ]
     },
     "execution_count": 24,
     "metadata": {},
     "output_type": "execute_result"
    }
   ],
   "source": [
    "query_urls"
   ]
  },
  {
   "cell_type": "code",
   "execution_count": 25,
   "id": "e7578439-1211-470a-b197-2cdc53a16f65",
   "metadata": {},
   "outputs": [
    {
     "name": "stdout",
     "output_type": "stream",
     "text": [
      ">>>  Historical data of ^OFIN saved\n",
      ">>>  Historical data of ^NBI saved\n",
      ">>>  Historical data of ^IXTC saved\n",
      ">>>  Historical data of ^INDS saved\n",
      ">>>  Historical data of ^IXHC saved\n",
      ">>>  Historical data of ^INSR saved\n",
      ">>>  Historical data of ^IXCO saved\n",
      ">>>  Historical data of ^IXIC saved\n",
      ">>>  Historical data of ^NDX saved\n",
      ">>>  Historical data of ^BANK saved\n",
      ">>>  Historical data of ^TRAN saved\n",
      ">>>  Historical data of ^DJI saved\n",
      ">>>  Historical data of ^NYA saved\n",
      "CPU times: user 374 ms, sys: 7.23 ms, total: 381 ms\n",
      "Wall time: 701 ms\n"
     ]
    }
   ],
   "source": [
    "%%time\n",
    "with Pool(processes=10) as pool:\n",
    "    pool.starmap(get_historic_price, zip(query_urls, itertools.repeat(json_path), itertools.repeat(csv_path)))"
   ]
  },
  {
   "cell_type": "code",
   "execution_count": null,
   "id": "ca20fced-a472-43e0-abf4-a631978aa7ec",
   "metadata": {},
   "outputs": [],
   "source": []
  }
 ],
 "metadata": {
  "kernelspec": {
   "display_name": "Python 3",
   "language": "python",
   "name": "python3"
  },
  "language_info": {
   "codemirror_mode": {
    "name": "ipython",
    "version": 3
   },
   "file_extension": ".py",
   "mimetype": "text/x-python",
   "name": "python",
   "nbconvert_exporter": "python",
   "pygments_lexer": "ipython3",
   "version": "3.8.10"
  }
 },
 "nbformat": 4,
 "nbformat_minor": 5
}
